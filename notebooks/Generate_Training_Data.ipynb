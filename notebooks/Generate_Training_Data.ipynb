{
 "cells": [
  {
   "cell_type": "markdown",
   "id": "90352645-ea0c-4301-bb4e-ad64e6f08276",
   "metadata": {
    "tags": []
   },
   "source": [
    "# Data Processing"
   ]
  },
  {
   "cell_type": "code",
   "execution_count": 9,
   "id": "90cf3053-33e7-474f-abff-caa80eb35ca4",
   "metadata": {},
   "outputs": [
    {
     "data": {
      "text/plain": [
       "30"
      ]
     },
     "execution_count": 9,
     "metadata": {},
     "output_type": "execute_result"
    }
   ],
   "source": [
    "from pathlib import Path\n",
    "import pandas as pd\n",
    "\n",
    "\n",
    "DATA_PATH = Path('../data')\n",
    "artists_df = pd.read_csv(DATA_PATH/'artists.csv', index_col=0)\n",
    "\n",
    "songs_df = pd.read_csv(DATA_PATH/'songs.csv', index_col=0)\n",
    "streams_df = pd.read_csv(DATA_PATH/'streams.csv', index_col=0)\n",
    "users_df = pd.read_csv(DATA_PATH/'users.csv', index_col=0)\n",
    "weeks = streams_df.week_no.max() + 1\n",
    "weeks"
   ]
  },
  {
   "cell_type": "code",
   "execution_count": 10,
   "id": "1680bd45-8ebd-444b-90c9-511294d6b459",
   "metadata": {},
   "outputs": [],
   "source": [
    "if weeks == 30:\n",
    "    MINIMAL_HISTORY_WEEKS = 5\n",
    "    PREDICT_IN_FUTURE_WEEKS = 5\n",
    "    MAX_HISTORY_WEEK = 29\n",
    "elif weeks == 100:\n",
    "    MINIMAL_HISTORY_WEEKS = 15 \n",
    "    PREDICT_IN_FUTURE_WEEKS = 20\n",
    "    MAX_HISTORY_WEEK = 99\n",
    "elif weeks == 50:\n",
    "    MINIMAL_HISTORY_WEEKS = 8 \n",
    "    PREDICT_IN_FUTURE_WEEKS = 26\n",
    "    MAX_HISTORY_WEEK = 49\n",
    "elif weeks == 15:\n",
    "    MINIMAL_HISTORY_WEEKS = 4 \n",
    "    PREDICT_IN_FUTURE_WEEKS = 5\n",
    "    MAX_HISTORY_WEEK = 14\n",
    "else:\n",
    "    raise(Exception(f'You should prepare a config for {weeks} weeks'))"
   ]
  },
  {
   "cell_type": "code",
   "execution_count": 11,
   "id": "ed2d0d4b-5640-4467-b04f-c433665c8e6d",
   "metadata": {},
   "outputs": [
    {
     "name": "stdout",
     "output_type": "stream",
     "text": [
      "103\n"
     ]
    }
   ],
   "source": [
    "print(songs_df.shape[0])"
   ]
  },
  {
   "cell_type": "code",
   "execution_count": 12,
   "id": "0253d4e9-ca77-448a-be06-5c1e38395296",
   "metadata": {},
   "outputs": [
    {
     "name": "stderr",
     "output_type": "stream",
     "text": [
      "100%|████████████████████████████████████████████████████████████████████████████████████████████████████████████████| 103/103 [00:01<00:00, 76.65it/s]\n"
     ]
    }
   ],
   "source": [
    "from tqdm import tqdm\n",
    "import numpy as np\n",
    "\n",
    "results = []\n",
    "\n",
    "small_sample_songs_df = songs_df\n",
    "\n",
    "for song_id, song in tqdm(small_sample_songs_df.iterrows(), total=small_sample_songs_df.shape[0]):\n",
    "    for week_no in range(song.week_released + MINIMAL_HISTORY_WEEKS, MAX_HISTORY_WEEK-PREDICT_IN_FUTURE_WEEKS+1):\n",
    "        # print(week_released)\n",
    "        sel_artist_df = artists_df.loc[song.artist_id]\n",
    "        sel_streams_df = streams_df[\n",
    "            (streams_df.song_id==song_id) &\n",
    "            (streams_df.week_no<week_no) & \n",
    "            (streams_df.week_no>=week_no-MINIMAL_HISTORY_WEEKS) \n",
    "        ]\n",
    "        sel_users_df = users_df.loc[sel_streams_df.user_id.unique()]\n",
    "        \n",
    "        perc_listeners_from_continent_dict = (pd.get_dummies(sel_users_df.continent, prefix='perc_listeners_from').sum()/sel_users_df.shape[0]).to_dict()\n",
    "        sel_target_streams_df = streams_df[\n",
    "            (streams_df.song_id==song_id) &\n",
    "            (streams_df.week_no==week_no+PREDICT_IN_FUTURE_WEEKS)\n",
    "        ]\n",
    "        \n",
    "        row = {\n",
    "            \"genre\": song.genre,\n",
    "            \"is_premium\": song.is_premium,\n",
    "            \"artist_continent\": sel_artist_df.continent,\n",
    "            \"weeks_after_artist_created\": week_no - sel_artist_df.week_no_created,\n",
    "            \"weeks_after_song_released\": week_no - song.week_released,\n",
    "            \"unique_listeners\": sel_streams_df.user_id.nunique(),\n",
    "            \"total_streams\": sel_streams_df.shape[0],\n",
    "            \"perc_of_subscribed_listeners\": 0 if sel_users_df.empty else sel_users_df.is_subscribed.mean(),\n",
    "            \"average_listener_age\": 0 if sel_users_df.empty else sel_users_df.age.mean(),\n",
    "            **perc_listeners_from_continent_dict,\n",
    "            'target': sel_target_streams_df.shape[0]\n",
    "            #'target': np.log1p(sel_target_streams_df.shape[0]),\n",
    "        }\n",
    "        results.append(row)\n",
    "        \n",
    "df = pd.DataFrame(results)"
   ]
  },
  {
   "cell_type": "code",
   "execution_count": 13,
   "id": "8e340570-6135-431b-88fc-c3750c61d917",
   "metadata": {},
   "outputs": [],
   "source": [
    "df = pd.DataFrame(results)"
   ]
  },
  {
   "cell_type": "code",
   "execution_count": 14,
   "id": "bea0f02b-34f4-4727-ae17-5b0be29b514b",
   "metadata": {},
   "outputs": [
    {
     "name": "stdout",
     "output_type": "stream",
     "text": [
      "<class 'pandas.core.frame.DataFrame'>\n",
      "RangeIndex: 340 entries, 0 to 339\n",
      "Data columns (total 26 columns):\n",
      " #   Column                             Non-Null Count  Dtype  \n",
      "---  ------                             --------------  -----  \n",
      " 0   is_premium                         340 non-null    int32  \n",
      " 1   weeks_after_artist_created         340 non-null    int64  \n",
      " 2   weeks_after_song_released          340 non-null    int64  \n",
      " 3   unique_listeners                   340 non-null    int64  \n",
      " 4   total_streams                      340 non-null    int64  \n",
      " 5   perc_of_subscribed_listeners       340 non-null    float64\n",
      " 6   average_listener_age               340 non-null    float64\n",
      " 7   perc_listeners_from_Africa         328 non-null    float64\n",
      " 8   perc_listeners_from_Asia           337 non-null    float64\n",
      " 9   perc_listeners_from_Europe         340 non-null    float64\n",
      " 10  perc_listeners_from_North America  339 non-null    float64\n",
      " 11  perc_listeners_from_Oceana         324 non-null    float64\n",
      " 12  perc_listeners_from_South America  333 non-null    float64\n",
      " 13  target                             340 non-null    int64  \n",
      " 14  song_genre_Alternative             340 non-null    uint8  \n",
      " 15  song_genre_Blues                   340 non-null    uint8  \n",
      " 16  song_genre_Classical               340 non-null    uint8  \n",
      " 17  song_genre_Electronic              340 non-null    uint8  \n",
      " 18  song_genre_Hip-hop                 340 non-null    uint8  \n",
      " 19  song_genre_Jazz                    340 non-null    uint8  \n",
      " 20  song_genre_Rock                    340 non-null    uint8  \n",
      " 21  artist_continent_Asia              340 non-null    uint8  \n",
      " 22  artist_continent_Europe            340 non-null    uint8  \n",
      " 23  artist_continent_North America     340 non-null    uint8  \n",
      " 24  artist_continent_Oceana            340 non-null    uint8  \n",
      " 25  artist_continent_South America     340 non-null    uint8  \n",
      "dtypes: float64(8), int32(1), int64(5), uint8(12)\n",
      "memory usage: 40.0 KB\n"
     ]
    }
   ],
   "source": [
    "df = df.join(pd.get_dummies(df.genre, prefix='song_genre').fillna(0))\n",
    "df = df.join(pd.get_dummies(df.artist_continent, prefix='artist_continent').fillna(0))\n",
    "df = df.drop(columns=['genre', 'artist_continent'], errors='ignore')\n",
    "df.is_premium = df.is_premium.astype(int)\n",
    "df.info()"
   ]
  },
  {
   "cell_type": "code",
   "execution_count": 15,
   "id": "03d5ed96-ff0e-4ff2-a501-b6bec5671436",
   "metadata": {},
   "outputs": [],
   "source": [
    "df.loc[:, df.columns.str.startswith('perc_listeners_from')] = df.loc[:, df.columns.str.startswith('perc_listeners_from')].fillna(0)"
   ]
  },
  {
   "cell_type": "code",
   "execution_count": 16,
   "id": "e87fb4e9-a961-49da-b49b-f2f6c6f15a39",
   "metadata": {},
   "outputs": [],
   "source": [
    "df.to_csv(DATA_PATH/f'train_data_{weeks}_weeks.csv')"
   ]
  },
  {
   "cell_type": "code",
   "execution_count": null,
   "id": "b987d352-d2df-43aa-82db-e0e0a947e29d",
   "metadata": {},
   "outputs": [],
   "source": []
  },
  {
   "cell_type": "code",
   "execution_count": null,
   "id": "8b56ba3d-1eda-4c44-9d44-d4a58cf8a780",
   "metadata": {},
   "outputs": [],
   "source": []
  },
  {
   "cell_type": "code",
   "execution_count": null,
   "id": "5baf875b-5764-4c18-bb82-ae05571b9b36",
   "metadata": {},
   "outputs": [],
   "source": []
  },
  {
   "cell_type": "code",
   "execution_count": null,
   "id": "1a210bc7-bd6c-467f-9bc4-eb475c3b5de1",
   "metadata": {},
   "outputs": [],
   "source": []
  }
 ],
 "metadata": {
  "kernelspec": {
   "display_name": "Python 3 (ipykernel)",
   "language": "python",
   "name": "python3"
  },
  "language_info": {
   "codemirror_mode": {
    "name": "ipython",
    "version": 3
   },
   "file_extension": ".py",
   "mimetype": "text/x-python",
   "name": "python",
   "nbconvert_exporter": "python",
   "pygments_lexer": "ipython3",
   "version": "3.11.5"
  }
 },
 "nbformat": 4,
 "nbformat_minor": 5
}
